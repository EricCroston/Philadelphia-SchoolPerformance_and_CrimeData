import warnings
import pandas as pd
from pathlib import Path


# File Path to Philadelphia SPREE data for school year 2022-2023
school_metrics_data_to_load = Path("data/SPREE_SY2223_School_Metric_Scores.csv")

# Read shcool metrics into Pandas DataFrames
school_metrics_data = pd.read_csv(school_metrics_data_to_load)

school_metrics_data.head()


school_metrics_data.info()


# Calculate and print the number of school ids
schools_count = school_metrics_data['school_id'].nunique()
print("The number of unique School ID's:",schools_count)

# List the unique school ids
unique_ids = school_metrics_data['school_id'].unique()
# print("The list of School IDs:")
# print(unique_ids)


#Calculate and print the number of school names
school_name_count = school_metrics_data['school_name'].nunique()
print("The number of unique Schools Names:",school_name_count)

# List the unique school names
unique_names = school_metrics_data['school_name'].unique()
# print("The list of School Names:")
# print(unique_names)


#Calculate and print the number of unique metrics
metrics_count=school_metrics_data['metric'].nunique()
print("The number of unique School Metrics:",metrics_count)

# List the unique metrics
unique_metrics = school_metrics_data['metric'].unique()
# print("The list of School Metrics")
# print(unique_metrics)


#Calculate and print the number of Report Types
report_types_count = school_metrics_data['report_type'].nunique()
print("The number of Report Types:",report_types_count)

# List the Report Types
unique_reports = school_metrics_data['report_type'].unique()
print("The list of Report Types:")
print(unique_reports)


# Identify duplicates based on 'school_id' and 'metric'
duplicates = school_metrics_data[school_metrics_data.duplicated(subset=['school_id', 'metric'], keep=False)]
duplicate_school_count = duplicates['school_name'].nunique()
print("The Number of duplicate School IDs:", duplicate_school_count)

# List the Duplicate Schools
duplicate_schools = duplicates['school_name'].unique()
print("The list of Duplicate Schools:")
print(duplicate_schools)


# Create the 'High School' 'Middle School' 'K-8 School' 'Elementary School' dataframes
high_school_metrics_df = school_metrics_data.loc[school_metrics_data['report_type'] == 'High School']
middle_school_metrics_df = school_metrics_data.loc[school_metrics_data['report_type'] == 'Middle School']
ktoeight_school_metrics_df = school_metrics_data.loc[school_metrics_data['report_type'] == 'K-8 School']
elementary_school_metrics_df = school_metrics_data.loc[school_metrics_data['report_type'] == 'Elementary School']

# Check for duplicates
high_school_duplicates = high_school_metrics_df[high_school_metrics_df.duplicated(subset=['school_id', 'metric'], keep=False)]
duplicate_high_school_count = high_school_duplicates['school_name'].nunique()
middle_school_duplicates = middle_school_metrics_df[middle_school_metrics_df.duplicated(subset=['school_id', 'metric'], keep=False)]
duplicate_middle_school_count = middle_school_duplicates['school_name'].nunique()
ktoeight_school_duplicates = ktoeight_school_metrics_df[ktoeight_school_metrics_df.duplicated(subset=['school_id', 'metric'], keep=False)]
duplicate_ktoeight_school_count = ktoeight_school_duplicates['school_name'].nunique()
elementary_school_duplicates = elementary_school_metrics_df[elementary_school_metrics_df.duplicated(subset=['school_id', 'metric'], keep=False)]
duplicate_elementary_school_count = elementary_school_duplicates['school_name'].nunique()

print("The number of duplicate High Schools:", duplicate_high_school_count)
print('-' * 40)
print("The number of duplicate Middle Schools:", duplicate_middle_school_count)
print('-' * 40)
print("The number of duplicate K-8 Schools:", duplicate_ktoeight_school_count)
print('-' * 40)
print("The number of duplicate Elementary Schools:", duplicate_elementary_school_count)


# Calculate the number of school names
high_school_count = high_school_metrics_df['school_name'].nunique()
middle_school_count = middle_school_metrics_df['school_name'].nunique()
ktoeight_school_count = ktoeight_school_metrics_df['school_name'].nunique()
elementary_school_count = elementary_school_metrics_df['school_name'].nunique()

# Print info for the dataframes 
print("The number of High Schools:", high_school_count)
high_school_metrics_df.info()
print('-' * 60)
print("The number of Middle Schools:", middle_school_count)
middle_school_metrics_df.info()
print('-' * 60)
print("The number of K-8 Schools:", ktoeight_school_count)
ktoeight_school_metrics_df.info()
print('-' * 60)
print("The number of Elementary Schools:", elementary_school_count)
elementary_school_metrics_df.info()
print('-' * 60)
all_schools = high_school_count + middle_school_count + ktoeight_school_count + elementary_school_count
print("The number of Schools:", all_schools)





high_school_metrics_df.head()


# list all the high school metrics
hs_unique_metrics = high_school_metrics_df['metric'].unique()
print("The list of High School Metrics:")
print(hs_unique_metrics)


# Create a list a metrics to keep
high_school_metrics_to_keep = [
       'Admission Type',
       '% of Students Attending at Least 90% of Instructional Days',
       'Number of Dropouts - Last School of Touch (Grades 7-12)',
       '# of Students Served Over the Full Year', 
       'October 1 Enrollment',
       '% of Students Completing the FAFSA by End of 12th Grade',
       'First-Fall Matriculation', 
       'Four-Year Cohort Graduation Rate',
       'Keystone Algebra I: % of Students Below Basic, Grade 11',
       'Keystone Algebra I: % of Students Proficient or Advanced, Grade 11',
       'Keystone Biology: % of Students Below Basic, Grade 11',
       'Keystone Biology: % of Students Proficient or Advanced, Grade 11',
       'Keystone Literature: % of Students Below Basic, Grade 11',
       'Keystone Literature: % of Students Proficient or Advanced, Grade 11',
       '% of 11th Grade Students Proficient on All Three Keystones',
       '% of 12th Grade CTE Students Meeting Industry Standards',
       'Ninth-Grade On-Track Rate',
       '% of Students Receiving Zero Out-of-School Suspensions',
       'Percent of Metrics Improving,  All Students',
       '% of Teachers Rated as Distinguished',
       '% of Teachers Rated as Proficient',
       '% of Teachers Attending at Least 90% of Instructional Days',
       'Year-to-Year Teacher Retention'
]
print("Number of High School metrics to keep:", len(high_school_metrics_to_keep))


# Reduce the number of rows by keeping only the rows with a 'metric' in high_school_metrics_to_keep
high_school_metrics_df = high_school_metrics_df[high_school_metrics_df['metric'].isin(high_school_metrics_to_keep)]

# Print info for cleaned dataframe
high_school_count = high_school_metrics_df['school_name'].nunique()
print("The number of High Schools:", high_school_count)
high_school_metrics_count = high_school_metrics_df['metric'].nunique()
print("The number of High School metrics:", high_school_metrics_count)
high_school_metrics_df.info()


# Verify the new dataframe has the correct number of metrics

# Create list of high school metrics
high_school_metrics = high_school_metrics_df['metric'].unique()

# Convert the lists to sets
high_school_metrics_set = set(high_school_metrics)
high_school_metrics_to_keep_set = set(high_school_metrics_to_keep)

# Find elements only in high_school_metrics
only_in_high_school_metrics = high_school_metrics_set.difference(high_school_metrics_to_keep_set)

# Find elements only in high_school_metrics_to_keep
only_in_high_school_to_keep_metrics = high_school_metrics_to_keep_set.difference(high_school_metrics_set)

# Print the results
print("The number of high_school_metrics:", len(high_school_metrics_set))
print("The number of high_school_metrics_to_keep:", len(high_school_metrics_to_keep_set))
print("Only in high_school_metrics:", only_in_high_school_metrics)
print("Only in high_school_metrics_to_keep:", only_in_high_school_to_keep_metrics)





middle_school_metrics_df.head()


# list all the middle school metrics
ms_unique_metrics = middle_school_metrics_df['metric'].unique()
print("The list of Middle School Metrics:")
print(ms_unique_metrics)


# Create a list a metrics to keep
middle_school_metrics_to_keep = [
       'Admission Type',
       '% of Students Attending at Least 90% of Instructional Days',
       'Number of Dropouts - Last School of Touch (Grades 7-12)',
       '# of Students Served Over the Full Year', 'October 1 Enrollment',
       '% of Students Receiving Zero Out-of-School Suspensions',
       'Percent of Metrics Improving,  All Students',
       'PSSA ELA: % of Students Below Basic, Grades 3-8',
       'PSSA ELA: % of Students Proficient or Advanced, Grades 3-8',
       'PSSA Math: % of Students Below Basic, Grades 3-8',
       'PSSA Math: % of Students Proficient or Advanced, Grades 3-8',
       'PSSA Science: % of Students Below Basic, Grades 4-8',
       'PSSA Science: % of Students Proficient or Advanced, Grades 4-8',
       '% of Teachers Rated as Distinguished',
       '% of Teachers Rated as Proficient',
       '% of Teachers Attending at Least 90% of Instructional Days',
       'Year-to-Year Teacher Retention'
]

print("Number of Middle School metrics to keep:", len(middle_school_metrics_to_keep))


# Reduce the number of rows by keeping only the rows with a 'metric' in middle_school_metrics_to_keep
middle_school_metrics_df = middle_school_metrics_df[middle_school_metrics_df['metric'].isin(middle_school_metrics_to_keep)]

# Print info for cleaned dataframe
middle_school_count = middle_school_metrics_df['school_name'].nunique()
print("The number of Middle Schools:", middle_school_count)
middle_school_metrics_count = middle_school_metrics_df['metric'].nunique()
print("The number of Middle School metrics:", middle_school_metrics_count)
middle_school_metrics_df.info()


# Verify the new dataframe has the correct number of metrics

# Create list of middle school metrics
middle_school_metrics = middle_school_metrics_df['metric'].unique()

# Convert the lists to sets
middle_school_metrics_set = set(middle_school_metrics)
middle_school_metrics_to_keep_set = set(middle_school_metrics_to_keep)

# Find elements only in middle_school_metrics
only_in_middle_school_metrics = middle_school_metrics_set.difference(middle_school_metrics_to_keep_set)

# Find elements only in middle_school_metrics_to_keep
only_in_middle_school_to_keep_metrics = middle_school_metrics_to_keep_set.difference(middle_school_metrics_set)

# Print the results
print("The number of middle_school_metrics:", len(middle_school_metrics_set))
print("The number of middle_school_metrics_to_keep:", len(middle_school_metrics_to_keep_set))
print("Only in middle_school_metrics:", only_in_middle_school_metrics)
print("Only in middle_school_metrics_to_keep:", only_in_middle_school_to_keep_metrics)





ktoeight_school_metrics_df.head()


# list all the k-8 school metrics
ktes_unique_metrics = ktoeight_school_metrics_df['metric'].unique()
print("The list of K-8 School Metrics:")
print(ktes_unique_metrics)


# Create a list a metrics to keep
ktoeight_school_metrics_to_keep = [
       'Admission Type',
       '% of Students Attending at Least 90% of Instructional Days',
       'Number of Dropouts - Last School of Touch (Grades 7-12)',
       '# of Students Served Over the Full Year', 'October 1 Enrollment',
       '% of Students Receiving Zero Out-of-School Suspensions',
       'Percent of Metrics Improving,  All Students',
       'PSSA ELA: % of Students Below Basic, Grades 3-8',
       'PSSA ELA: % of Students Below Basic, Grade 3',
       'PSSA ELA: % of Students Proficient or Advanced, Grades 3-8',
       'PSSA ELA: % of Students Proficient or Advanced, Grade 3',
       'PSSA Math: % of Students Below Basic, Grades 3-8',
       'PSSA Math: % of Students Below Basic, Grade 3',
       'PSSA Math: % of Students Proficient or Advanced, Grades 3-8',
       'PSSA Math: % of Students Proficient or Advanced, Grade 3',
       'PSSA Science: % of Students Below Basic, Grades 4-8',
       'PSSA Science: % of Students Proficient or Advanced, Grades 4-8',
       '% of Teachers Rated as Distinguished',
       '% of Teachers Rated as Proficient',
       '% of Teachers Attending at Least 90% of Instructional Days',
       'Year-to-Year Teacher Retention'
]

print("The number of K-8 metrics to keep:", len(ktoeight_school_metrics_to_keep))


# Reduce the number of rows by keeping only the rows with a 'metric' in ktoeight_school_metrics_to_keep
ktoeight_school_metrics_df = ktoeight_school_metrics_df[ktoeight_school_metrics_df['metric'].isin(ktoeight_school_metrics_to_keep)]

# Print info for cleaned dataframe
ktoeight_school_count = ktoeight_school_metrics_df['school_name'].nunique()
print("The number of K-8 Schools:", ktoeight_school_count)
ktoeight_school_metrics_count = ktoeight_school_metrics_df['metric'].nunique()
print("The number of K-8 School metrics:", ktoeight_school_metrics_count)
ktoeight_school_metrics_df.info()


# Verify the new dataframe has the correct number of metrics

# Create list of k-8 school metrics
ktoeight_school_metrics = ktoeight_school_metrics_df['metric'].unique()

# Convert the lists to sets
ktoeight_school_metrics_set = set(ktoeight_school_metrics)
ktoeight_school_metrics_to_keep_set = set(ktoeight_school_metrics_to_keep)

# Find elements only in ktoeight_school_metrics
only_in_ktoeight_school_metrics = ktoeight_school_metrics_set.difference(ktoeight_school_metrics_to_keep_set)

# Find elements only in ktoeight_school_metrics_to_keep
only_in_ktoeight_school_to_keep_metrics = ktoeight_school_metrics_to_keep_set.difference(ktoeight_school_metrics_set)

# Print the results
print("The number of ktoeight_school_metrics:", len(ktoeight_school_metrics_set))
print("The number of ktoeight_school_metrics_to_keep:", len(ktoeight_school_metrics_to_keep_set))
print("Only in ktoeight_school_metrics:", only_in_ktoeight_school_metrics)
print("Only in ktoeight_school_metrics_to_keep:", only_in_ktoeight_school_to_keep_metrics)





elementary_school_metrics_df.head()


# list all the elementary school metrics
es_unique_metrics = elementary_school_metrics_df['metric'].unique()
print("The list of Elementary School Metrics:")
print(es_unique_metrics)


# Create a list a metrics to keep
elementary_school_metrics_to_keep = [
       'Admission Type',
       '% of Students Attending at Least 90% of Instructional Days',
       '# of Students Served Over the Full Year', 'October 1 Enrollment',
       '% of Students Receiving Zero Out-of-School Suspensions',
       'Percent of Metrics Improving,  All Students',
       'PSSA ELA: % of Students Below Basic, Grades 3-8',
       'PSSA ELA: % of Students Below Basic, Grade 3',
       'PSSA ELA: % of Students Proficient or Advanced, Grades 3-8',
       'PSSA ELA: % of Students Proficient or Advanced, Grade 3',
       'PSSA Math: % of Students Below Basic, Grades 3-8',
       'PSSA Math: % of Students Below Basic, Grade 3',
       'PSSA Math: % of Students Proficient or Advanced, Grades 3-8',
       'PSSA Math: % of Students Proficient or Advanced, Grade 3',
       'PSSA Science: % of Students Below Basic, Grades 4-8',
       'PSSA Science: % of Students Proficient or Advanced, Grades 4-8',
       '% of Teachers Rated as Distinguished',
       '% of Teachers Rated as Proficient',
       '% of Teachers Attending at Least 90% of Instructional Days',
       'Year-to-Year Teacher Retention'
]

print("The number of Elementry School metrics to keep:", len(elementary_school_metrics_to_keep))


# Reduce the number of rows by keeping only the rows with a 'metric' in elementary_school_metrics_to_keep
elementary_school_metrics_df = elementary_school_metrics_df[elementary_school_metrics_df['metric'].isin(elementary_school_metrics_to_keep)]

# Print info for cleaned dataframe
elementary_school_count = elementary_school_metrics_df['school_name'].nunique()
print("The number of Elementary Schools:", elementary_school_count)
elementary_school_metrics_count = elementary_school_metrics_df['metric'].nunique()
print("The number of Elementary School metrics:", elementary_school_metrics_count)
elementary_school_metrics_df.info()


# Verify the new dataframe has the correct number of metrics

# Create list of elemenarty school metrics
elementary_school_metrics = elementary_school_metrics_df['metric'].unique()

# Convert the lists to sets
elementary_school_metrics_set = set(elementary_school_metrics)
elementary_school_metrics_to_keep_set = set(elementary_school_metrics_to_keep)

# Find elements only in elementary_school_metrics
only_in_elementary_school_metrics = elementary_school_metrics_set.difference(elementary_school_metrics_to_keep_set)

# Find elements only in elementary_school_metrics
only_in_elementary_school_to_keep_metrics = elementary_school_metrics_to_keep_set.difference(elementary_school_metrics_set)

# Print the results
print("The number of elementary_school_metrics:", len(elementary_school_metrics_set))
print("The number of elementary_school_metrics_to_keep:", len(elementary_school_metrics_to_keep_set))
print("Only in elementary_school_metrics:", only_in_elementary_school_metrics)
print("Only in elementary_school_metrics_to_keep:", only_in_elementary_school_to_keep_metrics)





# Print info for dataframes with reduced rows
print("The number of High Schools:", high_school_count)
print("The number of High School metrics:", high_school_metrics_count)
high_school_metrics_df.info()
print('-' * 60)
print("The number of Middle Schools:", middle_school_count)
print("The number of Middle School metrics:", middle_school_metrics_count)
middle_school_metrics_df.info()
print('-' * 60)
print("The number of K-8 Schools:", ktoeight_school_count)
print("The number of K-8 School metrics:", ktoeight_school_metrics_count)
ktoeight_school_metrics_df.info()
print('-' * 60)
print("The number of Elementary Schools:", elementary_school_count)
print("The number of Elementary School metrics:", elementary_school_metrics_count)
elementary_school_metrics_df.info()
print('-' * 60)
all_schools = high_school_count + middle_school_count + ktoeight_school_count + elementary_school_count
print("The number of Schools:", all_schools)








high_school_metrics_df.head()


# Pivot the high_school_metrics_df DataFrame to create one row for each school 
hs_metrics_df = high_school_metrics_df.pivot_table(
    index = ['accountability_year', 'school_id', 'school_name', 'report_type'],
    columns = 'metric', 
    values = 'metric_score',
    aggfunc= 'first'
).reset_index()

hs_metrics_df.head()


# List the hs_metrics_df columns
hs_metrics_df.columns


# Create a list with desireds column order
hs_columns = [
    'accountability_year', 
    'school_id', 
    'school_name', 
    'report_type', 
    'Admission Type', 
    '# of Students Served Over the Full Year', 
    'October 1 Enrollment', 
    '% of 11th Grade Students Proficient on All Three Keystones', 
    'Keystone Algebra I: % of Students Below Basic, Grade 11', 
    'Keystone Algebra I: % of Students Proficient or Advanced, Grade 11', 
    'Keystone Biology: % of Students Below Basic, Grade 11', 
    'Keystone Biology: % of Students Proficient or Advanced, Grade 11', 
    'Keystone Literature: % of Students Below Basic, Grade 11', 
    'Keystone Literature: % of Students Proficient or Advanced, Grade 11', 
    '% of 12th Grade CTE Students Meeting Industry Standards', 
    'Ninth-Grade On-Track Rate', 
    'Percent of Metrics Improving,  All Students', 
    '% of Students Attending at Least 90% of Instructional Days', 
    'Number of Dropouts - Last School of Touch (Grades 7-12)', 
    '% of Students Receiving Zero Out-of-School Suspensions', 
    '% of Students Completing the FAFSA by End of 12th Grade',
    'First-Fall Matriculation',
    'Four-Year Cohort Graduation Rate'
]
# Reorder the DataFrame columns
hs_metrics_df = hs_metrics_df[hs_columns]


# Rename the Columns with compatible formatting 
hs_metrics_df = hs_metrics_df.rename(columns={
    'accountability_year': 'year', 
    'school_id': 'school_id', 
    'Admission Type': 'admission_type',
    '# of Students Served Over the Full Year': 'number_students_served_full_year', 
    'October 1 Enrollment': 'october_one_enrollment', 
    '% of 11th Grade Students Proficient on All Three Keystones': 'percent_11th_grade_students_proficient_all_three_keystones', 
    'Keystone Algebra I: % of Students Below Basic, Grade 11': 'percent_11th_grade_students_below_basic_keystone_algebra_i', 
    'Keystone Algebra I: % of Students Proficient or Advanced, Grade 11': 'percent_11th_grade_students_proficient_keystone_algebra_i', 
    'Keystone Biology: % of Students Below Basic, Grade 11': 'percent_11th_grade_students_below_basic_keystone_biology', 
    'Keystone Biology: % of Students Proficient or Advanced, Grade 11': 'percent_11th_grade_students_proficient_keystone_biology', 
    'Keystone Literature: % of Students Below Basic, Grade 11': 'percent_11th_grade_students_below_basic_keystone_literature', 
    'Keystone Literature: % of Students Proficient or Advanced, Grade 11': 'percent_11th_grade_students_proficient_keystone_literature', 
    '% of 12th Grade CTE Students Meeting Industry Standards': 'percent_12th_grade_cte_students_meeting_industry_standards', 
    'Ninth-Grade On-Track Rate': 'ninth_grade_on_track_rate', 
    'Percent of Metrics Improving,  All Students': 'percent_metrics_improving_all_students', 
    '% of Students Attending at Least 90% of Instructional Days': 'percent_students_attending_at_least_90_percent', 
    'Number of Dropouts - Last School of Touch (Grades 7-12)': 'number_dropouts_grades_7_to_12', 
    '% of Students Receiving Zero Out-of-School Suspensions': 'percent_students_receiving_zero_out_of_school_suspensions', 
    '% of Students Completing the FAFSA by End of 12th Grade': 'percent_students_completing_the_fafsa_by_end_of_12th_grade',
    'First-Fall Matriculation': 'first_fall_matriculation',
    'Four-Year Cohort Graduation Rate': 'four_year_cohort_graduation_rate'
})
# Remove 'metric' from the index column title
hs_metrics_df.columns = hs_metrics_df.columns.rename(None)

hs_metrics_df.head()


hs_metrics_df.info()


# List the hs_metrics_df columns
hs_metrics_df.columns


# List of columns to convert
hs_columns_to_convert = [
    'number_students_served_full_year', 
    'october_one_enrollment',
    'percent_11th_grade_students_proficient_all_three_keystones',
    'percent_11th_grade_students_below_basic_keystone_algebra_i',
    'percent_11th_grade_students_proficient_keystone_algebra_i',
    'percent_11th_grade_students_below_basic_keystone_biology',
    'percent_11th_grade_students_proficient_keystone_biology',
    'percent_11th_grade_students_below_basic_keystone_literature',
    'percent_11th_grade_students_proficient_keystone_literature',
    'percent_12th_grade_cte_students_meeting_industry_standards',
    'ninth_grade_on_track_rate', 
    'percent_metrics_improving_all_students',
    'percent_students_attending_at_least_90_percent',
    'number_dropouts_grades_7_to_12',
    'percent_students_receiving_zero_out_of_school_suspensions',
    'percent_students_completing_the_fafsa_by_end_of_12th_grade',
    'first_fall_matriculation', 
    'four_year_cohort_graduation_rate'
]

# Apply pd.to_numeric to convert strings to 'NaN'
hs_metrics_df[hs_columns_to_convert] = hs_metrics_df[hs_columns_to_convert].apply(lambda x: pd.to_numeric(x, errors='coerce'))

# Set the datatypes
hs_metrics_df = hs_metrics_df.astype({    
    'number_students_served_full_year': 'int64', 
    'october_one_enrollment': 'int64',
    'percent_11th_grade_students_proficient_all_three_keystones': 'float64',
    'percent_11th_grade_students_below_basic_keystone_algebra_i': 'float64',
    'percent_11th_grade_students_proficient_keystone_algebra_i': 'float64',
    'percent_11th_grade_students_below_basic_keystone_biology': 'float64',
    'percent_11th_grade_students_proficient_keystone_biology': 'float64',
    'percent_11th_grade_students_below_basic_keystone_literature': 'float64',
    'percent_11th_grade_students_proficient_keystone_literature': 'float64',
    'percent_12th_grade_cte_students_meeting_industry_standards': 'float64',
    'ninth_grade_on_track_rate': 'float64', 
    'percent_metrics_improving_all_students': 'float64',
    'percent_students_attending_at_least_90_percent': 'float64',
    'number_dropouts_grades_7_to_12': 'int64',
    'percent_students_receiving_zero_out_of_school_suspensions': 'float64',
    'percent_students_completing_the_fafsa_by_end_of_12th_grade': 'float64',
    'first_fall_matriculation': 'float64', 
    'four_year_cohort_graduation_rate': 'float64'
})


hs_metrics_df.info()


# Make an output for the new dataset
output_file_path= 'jupyter_outputs/High_School_Metric_Scores.csv'

# Save the DataFrame to a CSV file
hs_metrics_df.to_csv(output_file_path, index=False)

print(f"DataFrame saved to {output_file_path}")





middle_school_metrics_df.head()


# Pivot the middle_school_metrics_df DataFrame to create one row for each school 
ms_metrics_df = middle_school_metrics_df.pivot_table(
    index = ['accountability_year', 'school_id', 'school_name', 'report_type'],
    columns = 'metric', 
    values = 'metric_score',
    aggfunc='first'
).reset_index()

ms_metrics_df.head()


# List the ms_metrics_df columns
ms_metrics_df.columns


# Create a list with desireds column order
ms_columns = [
    'accountability_year', 
    'school_id', 
    'school_name', 
    'report_type', 
    'Admission Type', 
    '# of Students Served Over the Full Year', 
    'October 1 Enrollment', 
    'PSSA ELA: % of Students Below Basic, Grades 3-8',
    'PSSA ELA: % of Students Proficient or Advanced, Grades 3-8',
    'PSSA Math: % of Students Below Basic, Grades 3-8',
    'PSSA Math: % of Students Proficient or Advanced, Grades 3-8',
    'PSSA Science: % of Students Below Basic, Grades 4-8',
    'PSSA Science: % of Students Proficient or Advanced, Grades 4-8',
    'Percent of Metrics Improving,  All Students', 
    '% of Students Attending at Least 90% of Instructional Days', 
    'Number of Dropouts - Last School of Touch (Grades 7-12)',
    '% of Students Receiving Zero Out-of-School Suspensions'
]

# Reorder the DataFrame columns
ms_metrics_df = ms_metrics_df[ms_columns]


# Rename the Columns with compatible formatting 
ms_metrics_df = ms_metrics_df.rename(columns={
    'accountability_year': 'year', 
    'school_id': 'school_id', 
    'school_name': 'school_name', 
    'report_type': 'report_type', 
    'Admission Type': 'admission_type', 
    '# of Students Served Over the Full Year': 'number_students_served_full_year', 
    'October 1 Enrollment': 'october_one_enrollment', 
    'PSSA ELA: % of Students Below Basic, Grades 3-8': 'pssa_ela_percent_students_below_basic_grades_3_to_8',
    'PSSA ELA: % of Students Proficient or Advanced, Grades 3-8': 'pssa_ela_percent_students_proficient_or_advanced_grades_3_to_8',
    'PSSA Math: % of Students Below Basic, Grades 3-8': 'pssa_math_percent_students_below_basic_grades_3_to_8',
    'PSSA Math: % of Students Proficient or Advanced, Grades 3-8': 'pssa_math_percent_students_proficient_or_advanced_grades_3_to_8',
    'PSSA Science: % of Students Below Basic, Grades 4-8': 'pssa_science_percent_students_below_basic_grades_4_to_8',
    'PSSA Science: % of Students Proficient or Advanced, Grades 4-8': 'pssa_science_percent_students_proficient_or_advanced_grades_4_to_8',
    'Percent of Metrics Improving,  All Students': 'percent_metrics_improving_all_students', 
    '% of Students Attending at Least 90% of Instructional Days': 'percent_students_attending_at_least_90_percent', 
    'Number of Dropouts - Last School of Touch (Grades 7-12)': 'number_dropouts_grades_7_to_12',
    '% of Students Receiving Zero Out-of-School Suspensions': 'percent_students_receiving_zero_out_of_school_suspensions'
})
# Remove 'metric' from the index column title
ms_metrics_df.columns = ms_metrics_df.columns.rename(None)

ms_metrics_df.head()


ms_metrics_df.info()


# List the ms_metrics_df columns
ms_metrics_df.columns


# List of columns to convert
ms_columns_to_convert = [
    'number_students_served_full_year', 
    'october_one_enrollment',
    'pssa_ela_percent_students_below_basic_grades_3_to_8',
    'pssa_ela_percent_students_proficient_or_advanced_grades_3_to_8',
    'pssa_math_percent_students_below_basic_grades_3_to_8',
    'pssa_math_percent_students_proficient_or_advanced_grades_3_to_8',
    'pssa_science_percent_students_below_basic_grades_4_to_8',
    'pssa_science_percent_students_proficient_or_advanced_grades_4_to_8',
    'percent_metrics_improving_all_students',
    'percent_students_attending_at_least_90_percent',
    'number_dropouts_grades_7_to_12',
    'percent_students_receiving_zero_out_of_school_suspensions'
]

# Apply pd.to_numeric to convert strings to 'NaN'
ms_metrics_df[ms_columns_to_convert] = ms_metrics_df[ms_columns_to_convert].apply(lambda x: pd.to_numeric(x, errors='coerce'))

# Set the datatypes
ms_metrics_df = ms_metrics_df.astype({    
    'number_students_served_full_year': 'int64', 
    'october_one_enrollment': 'int64',
    'pssa_ela_percent_students_below_basic_grades_3_to_8': 'float64',
    'pssa_ela_percent_students_proficient_or_advanced_grades_3_to_8': 'float64',
    'pssa_math_percent_students_below_basic_grades_3_to_8': 'float64',
    'pssa_math_percent_students_proficient_or_advanced_grades_3_to_8': 'float64',
    'pssa_science_percent_students_below_basic_grades_4_to_8': 'float64',
    'pssa_science_percent_students_proficient_or_advanced_grades_4_to_8': 'float64',
    'percent_metrics_improving_all_students': 'float64',
    'percent_students_attending_at_least_90_percent': 'float64',
    'number_dropouts_grades_7_to_12': 'int64',
    'percent_students_receiving_zero_out_of_school_suspensions': 'float64'
})


ms_metrics_df.info()


# Make an output for the new dataset
output_file_path= 'jupyter_outputs/Middle_School_Metric_Scores.csv'

# Save the DataFrame to a CSV file
ms_metrics_df.to_csv(output_file_path, index=False)

print(f"DataFrame saved to {output_file_path}")





ktoeight_school_metrics_df.head()


# Pivot the ktoeight_school_metrics_df DataFrame to create one row for each school 
ktes_metrics_df = ktoeight_school_metrics_df.pivot_table(
    index = ['accountability_year', 'school_id', 'school_name', 'report_type'],
    columns = 'metric', 
    values = 'metric_score',
    aggfunc='first'
).reset_index()

ktes_metrics_df.head()


# List the ktes_metrics_df columns
ktes_metrics_df.columns


# Create a list with desireds column order
ktes_columns = [
    'accountability_year', 
    'school_id', 
    'school_name', 
    'report_type', 
    'Admission Type', 
    '# of Students Served Over the Full Year', 
    'October 1 Enrollment', 
    'PSSA ELA: % of Students Below Basic, Grade 3',
    'PSSA ELA: % of Students Below Basic, Grades 3-8',
    'PSSA ELA: % of Students Proficient or Advanced, Grade 3',
    'PSSA ELA: % of Students Proficient or Advanced, Grades 3-8',
    'PSSA Math: % of Students Below Basic, Grade 3',
    'PSSA Math: % of Students Below Basic, Grades 3-8',
    'PSSA Math: % of Students Proficient or Advanced, Grade 3',
    'PSSA Math: % of Students Proficient or Advanced, Grades 3-8',
    'PSSA Science: % of Students Below Basic, Grades 4-8',
    'PSSA Science: % of Students Proficient or Advanced, Grades 4-8',
    'Percent of Metrics Improving,  All Students', 
    '% of Students Attending at Least 90% of Instructional Days', 
    'Number of Dropouts - Last School of Touch (Grades 7-12)',
    '% of Students Receiving Zero Out-of-School Suspensions'
]
# Reorder the DataFrame columns
ktes_metrics_df = ktes_metrics_df[ktes_columns]


# Rename the Columns with compatible formatting 
ktes_metrics_df = ktes_metrics_df.rename(columns={
    'accountability_year': 'year', 
    'school_id': 'school_id', 
    'school_name': 'school_name', 
    'report_type': 'report_type', 
    'Admission Type': 'admission_type', 
    '# of Students Served Over the Full Year': 'number_students_served_full_year', 
    'October 1 Enrollment': 'october_one_enrollment', 
    'PSSA ELA: % of Students Below Basic, Grade 3': 'pssa_ela_percent_students_below_basic_grade_3',
    'PSSA ELA: % of Students Below Basic, Grades 3-8': 'pssa_ela_percent_students_below_basic_grades_3_to_8',
    'PSSA ELA: % of Students Proficient or Advanced, Grade 3': 'pssa_ela_percent_students_proficient_or_advanced_grade_3',
    'PSSA ELA: % of Students Proficient or Advanced, Grades 3-8': 'pssa_ela_percent_students_proficient_or_advanced_grades_3_to_8',
    'PSSA Math: % of Students Below Basic, Grade 3': 'pssa_math_percent_students_below_basic_grade_3',
    'PSSA Math: % of Students Below Basic, Grades 3-8': 'pssa_math_percent_students_below_basic_grades_3_to_8',
    'PSSA Math: % of Students Proficient or Advanced, Grade 3': 'pssa_math_percent_students_proficient_or_advanced_grade_3',
    'PSSA Math: % of Students Proficient or Advanced, Grades 3-8': 'pssa_math_percent_students_proficient_or_advanced_grades_3_to_8',
    'PSSA Science: % of Students Below Basic, Grades 4-8': 'pssa_science_percent_students_below_basic_grades_4_to_8',
    'PSSA Science: % of Students Proficient or Advanced, Grades 4-8': 'pssa_science_percent_students_proficient_or_advanced_grades_4_to_8',
    'Percent of Metrics Improving,  All Students': 'percent_metrics_improving_all_students', 
    '% of Students Attending at Least 90% of Instructional Days': 'percent_students_attending_at_least_90_percent', 
    'Number of Dropouts - Last School of Touch (Grades 7-12)': 'number_dropouts_grades_7_to_12',
    '% of Students Receiving Zero Out-of-School Suspensions': 'percent_students_receiving_zero_out_of_school_suspensions'
})
# Remove 'metric' from the index column title
ktes_metrics_df.columns = ktes_metrics_df.columns.rename(None)

ktes_metrics_df.head()


ktes_metrics_df.info()


# List the ms_metrics_df columns
ktes_metrics_df.columns


# List of columns to convert
ktes_columns_to_convert = [
    'number_students_served_full_year', 
    'october_one_enrollment',
    'pssa_ela_percent_students_below_basic_grade_3',
    'pssa_ela_percent_students_below_basic_grades_3_to_8',
    'pssa_ela_percent_students_proficient_or_advanced_grade_3',
    'pssa_ela_percent_students_proficient_or_advanced_grades_3_to_8',
    'pssa_math_percent_students_below_basic_grade_3',
    'pssa_math_percent_students_below_basic_grades_3_to_8',
    'pssa_math_percent_students_proficient_or_advanced_grade_3',
    'pssa_math_percent_students_proficient_or_advanced_grades_3_to_8',
    'pssa_science_percent_students_below_basic_grades_4_to_8',
    'pssa_science_percent_students_proficient_or_advanced_grades_4_to_8',
    'percent_metrics_improving_all_students',
    'percent_students_attending_at_least_90_percent',
    'number_dropouts_grades_7_to_12',
    'percent_students_receiving_zero_out_of_school_suspensions'
]

# Apply pd.to_numeric to convert strings to 'NaN'
ktes_metrics_df[ktes_columns_to_convert] = ktes_metrics_df[ktes_columns_to_convert].apply(lambda x: pd.to_numeric(x, errors='coerce'))

# Fill NaN values with a placeholder 0 before converting to integers
ktes_metrics_df.fillna({
    'number_students_served_full_year': 0,
    'october_one_enrollment': 0,
    'number_dropouts_grades_7_to_12': 0,
}, inplace=True)

# Set the datatypes
ktes_metrics_df = ktes_metrics_df.astype({    
    'number_students_served_full_year': 'int64', 
    'october_one_enrollment': 'int64',
    'pssa_ela_percent_students_below_basic_grade_3': 'float64',
    'pssa_ela_percent_students_below_basic_grades_3_to_8': 'float64',
    'pssa_ela_percent_students_proficient_or_advanced_grade_3': 'float64',
    'pssa_ela_percent_students_proficient_or_advanced_grades_3_to_8': 'float64',
    'pssa_math_percent_students_below_basic_grade_3': 'float64',
    'pssa_math_percent_students_below_basic_grades_3_to_8': 'float64',
    'pssa_math_percent_students_proficient_or_advanced_grade_3': 'float64',
    'pssa_math_percent_students_proficient_or_advanced_grades_3_to_8': 'float64',
    'pssa_science_percent_students_below_basic_grades_4_to_8': 'float64',
    'pssa_science_percent_students_proficient_or_advanced_grades_4_to_8': 'float64',
    'percent_metrics_improving_all_students': 'float64',
    'percent_students_attending_at_least_90_percent': 'float64',
    'number_dropouts_grades_7_to_12': 'int64',
    'percent_students_receiving_zero_out_of_school_suspensions': 'float64'
})


ktes_metrics_df.info()


# Make an output for the new dataset
output_file_path= 'jupyter_outputs/KtoEight_School_Metric_Scores.csv'

# Save the DataFrame to a CSV file
ktes_metrics_df.to_csv(output_file_path, index=False)

print(f"DataFrame saved to {output_file_path}")





elementary_school_metrics_df.head()


# Pivot the elementary_school_metrics_df DataFrame to create one row for each school 
es_metrics_df = elementary_school_metrics_df.pivot_table(
    index = ['accountability_year', 'school_id', 'school_name', 'report_type'],
    columns = 'metric', 
    values = 'metric_score',
    aggfunc='first'
).reset_index()

es_metrics_df.head()


# List the es_metrics_df columns
es_metrics_df.columns


# Create a list with desireds column order
es_columns = [
    'accountability_year', 
    'school_id', 
    'school_name', 
    'report_type', 
    'Admission Type', 
    '# of Students Served Over the Full Year', 
    'October 1 Enrollment', 
    'PSSA ELA: % of Students Below Basic, Grade 3',
    'PSSA ELA: % of Students Below Basic, Grades 3-8',
    'PSSA ELA: % of Students Proficient or Advanced, Grade 3',
    'PSSA ELA: % of Students Proficient or Advanced, Grades 3-8',
    'PSSA Math: % of Students Below Basic, Grade 3',
    'PSSA Math: % of Students Below Basic, Grades 3-8',
    'PSSA Math: % of Students Proficient or Advanced, Grade 3',
    'PSSA Math: % of Students Proficient or Advanced, Grades 3-8',
    'PSSA Science: % of Students Below Basic, Grades 4-8',
    'PSSA Science: % of Students Proficient or Advanced, Grades 4-8',
    'Percent of Metrics Improving,  All Students', 
    '% of Students Attending at Least 90% of Instructional Days', 
    '% of Students Receiving Zero Out-of-School Suspensions'
]

# Reorder the DataFrame columns
es_metrics_df = es_metrics_df[es_columns]


# Rename the Columns with compatible formatting 
es_metrics_df = es_metrics_df.rename(columns={
    'accountability_year': 'year', 
    'school_id': 'school_id', 
    'school_name': 'school_name', 
    'report_type': 'report_type', 
    'Admission Type': 'admission_type', 
    '# of Students Served Over the Full Year': 'number_students_served_full_year', 
    'October 1 Enrollment': 'october_one_enrollment', 
    'PSSA ELA: % of Students Below Basic, Grade 3': 'pssa_ela_percent_students_below_basic_grade_3',
    'PSSA ELA: % of Students Below Basic, Grades 3-8': 'pssa_ela_percent_students_below_basic_grades_3_to_8',
    'PSSA ELA: % of Students Proficient or Advanced, Grade 3': 'pssa_ela_percent_students_proficient_or_advanced_grade_3',
    'PSSA ELA: % of Students Proficient or Advanced, Grades 3-8': 'pssa_ela_percent_students_proficient_or_advanced_grades_3_to_8',
    'PSSA Math: % of Students Below Basic, Grade 3': 'pssa_math_percent_students_below_basic_grade_3',
    'PSSA Math: % of Students Below Basic, Grades 3-8': 'pssa_math_percent_students_below_basic_grades_3_to_8',
    'PSSA Math: % of Students Proficient or Advanced, Grade 3': 'pssa_math_percent_students_proficient_or_advanced_grade_3',
    'PSSA Math: % of Students Proficient or Advanced, Grades 3-8': 'pssa_math_percent_students_proficient_or_advanced_grades_3_to_8',
    'PSSA Science: % of Students Below Basic, Grades 4-8': 'pssa_science_percent_students_below_basic_grades_4_to_8',
    'PSSA Science: % of Students Proficient or Advanced, Grades 4-8': 'pssa_science_percent_students_proficient_or_advanced_grades_4_to_8',
    'Percent of Metrics Improving,  All Students': 'percent_metrics_improving_all_students', 
    '% of Students Attending at Least 90% of Instructional Days': 'percent_students_attending_at_least_90_percent', 
    '% of Students Receiving Zero Out-of-School Suspensions': 'percent_students_receiving_zero_out_of_school_suspensions'
})
# Remove 'metric' from the index column title
es_metrics_df.columns = es_metrics_df.columns.rename(None)

es_metrics_df.head()


es_metrics_df.info()


# List the es_metrics_df columns
es_metrics_df.columns


# List of columns to convert
es_columns_to_convert = [
    'number_students_served_full_year', 
    'october_one_enrollment',
    'pssa_ela_percent_students_below_basic_grade_3',
    'pssa_ela_percent_students_below_basic_grades_3_to_8',
    'pssa_ela_percent_students_proficient_or_advanced_grade_3',
    'pssa_ela_percent_students_proficient_or_advanced_grades_3_to_8',
    'pssa_math_percent_students_below_basic_grade_3',
    'pssa_math_percent_students_below_basic_grades_3_to_8',
    'pssa_math_percent_students_proficient_or_advanced_grade_3',
    'pssa_math_percent_students_proficient_or_advanced_grades_3_to_8',
    'pssa_science_percent_students_below_basic_grades_4_to_8',
    'pssa_science_percent_students_proficient_or_advanced_grades_4_to_8',
    'percent_metrics_improving_all_students',
    'percent_students_attending_at_least_90_percent',
    'percent_students_receiving_zero_out_of_school_suspensions'
]

# Apply pd.to_numeric to convert strings to 'NaN'
es_metrics_df[es_columns_to_convert] = es_metrics_df[es_columns_to_convert].apply(lambda x: pd.to_numeric(x, errors='coerce'))

# Set the datatypes
es_metrics_df = es_metrics_df.astype({    
    'number_students_served_full_year': 'int64', 
    'october_one_enrollment': 'int64',
    'pssa_ela_percent_students_below_basic_grade_3': 'float64',
    'pssa_ela_percent_students_below_basic_grades_3_to_8': 'float64',
    'pssa_ela_percent_students_proficient_or_advanced_grade_3': 'float64',
    'pssa_ela_percent_students_proficient_or_advanced_grades_3_to_8': 'float64',
    'pssa_math_percent_students_below_basic_grade_3': 'float64',
    'pssa_math_percent_students_below_basic_grades_3_to_8': 'float64',
    'pssa_math_percent_students_proficient_or_advanced_grade_3': 'float64',
    'pssa_math_percent_students_proficient_or_advanced_grades_3_to_8': 'float64',
    'pssa_science_percent_students_below_basic_grades_4_to_8': 'float64',
    'pssa_science_percent_students_proficient_or_advanced_grades_4_to_8': 'float64',
    'percent_metrics_improving_all_students': 'float64',
    'percent_students_attending_at_least_90_percent': 'float64',
    'percent_students_receiving_zero_out_of_school_suspensions': 'float64'
})


es_metrics_df.info()


# Make an output for the new dataset
output_file_path= 'jupyter_outputs/Elementary_School_Metric_Scores.csv'

# Save the DataFrame to a CSV file
es_metrics_df.to_csv(output_file_path, index=False)

print(f"DataFrame saved to {output_file_path}")



